{
 "cells": [
  {
   "cell_type": "markdown",
   "id": "8930c229",
   "metadata": {
    "papermill": {
     "duration": 0.013706,
     "end_time": "2024-06-02T12:31:08.206191",
     "exception": false,
     "start_time": "2024-06-02T12:31:08.192485",
     "status": "completed"
    },
    "tags": []
   },
   "source": [
    "# US Accidents Analysis"
   ]
  },
  {
   "cell_type": "markdown",
   "id": "8dfb4e0f",
   "metadata": {
    "papermill": {
     "duration": 0.013161,
     "end_time": "2024-06-02T12:31:08.232916",
     "exception": false,
     "start_time": "2024-06-02T12:31:08.219755",
     "status": "completed"
    },
    "tags": []
   },
   "source": [
    "![](https://www.hseblog.com/wp-content/uploads/2023/05/Effects-Of-Road-Accidents-2.webp)"
   ]
  },
  {
   "cell_type": "code",
   "execution_count": 1,
   "id": "1a93a46b",
   "metadata": {
    "execution": {
     "iopub.execute_input": "2024-06-02T12:31:08.260319Z",
     "iopub.status.busy": "2024-06-02T12:31:08.259899Z",
     "iopub.status.idle": "2024-06-02T12:31:08.281771Z",
     "shell.execute_reply": "2024-06-02T12:31:08.280449Z"
    },
    "papermill": {
     "duration": 0.039138,
     "end_time": "2024-06-02T12:31:08.284853",
     "exception": false,
     "start_time": "2024-06-02T12:31:08.245715",
     "status": "completed"
    },
    "tags": []
   },
   "outputs": [
    {
     "name": "stdout",
     "output_type": "stream",
     "text": [
      "/kaggle/input/us-accidents/US_Accidents_March23.csv\n"
     ]
    }
   ],
   "source": [
    "import os\n",
    "for dirname, _, filenames in os.walk('/kaggle/input'):\n",
    "    for filename in filenames:\n",
    "        print(os.path.join(dirname, filename))"
   ]
  },
  {
   "cell_type": "code",
   "execution_count": 2,
   "id": "10d495ad",
   "metadata": {
    "execution": {
     "iopub.execute_input": "2024-06-02T12:31:08.313082Z",
     "iopub.status.busy": "2024-06-02T12:31:08.312698Z",
     "iopub.status.idle": "2024-06-02T12:31:10.840730Z",
     "shell.execute_reply": "2024-06-02T12:31:10.839405Z"
    },
    "papermill": {
     "duration": 2.545458,
     "end_time": "2024-06-02T12:31:10.843634",
     "exception": false,
     "start_time": "2024-06-02T12:31:08.298176",
     "status": "completed"
    },
    "tags": []
   },
   "outputs": [],
   "source": [
    "import numpy as np \n",
    "import pandas as pd\n",
    "import matplotlib.pyplot as plt\n",
    "import seaborn as sns"
   ]
  },
  {
   "cell_type": "code",
   "execution_count": 3,
   "id": "cb0bb426",
   "metadata": {
    "execution": {
     "iopub.execute_input": "2024-06-02T12:31:10.873517Z",
     "iopub.status.busy": "2024-06-02T12:31:10.872855Z",
     "iopub.status.idle": "2024-06-02T12:33:41.396831Z",
     "shell.execute_reply": "2024-06-02T12:33:41.395370Z"
    },
    "papermill": {
     "duration": 150.542746,
     "end_time": "2024-06-02T12:33:41.399969",
     "exception": false,
     "start_time": "2024-06-02T12:31:10.857223",
     "status": "completed"
    },
    "tags": []
   },
   "outputs": [],
   "source": [
    "df = pd.read_csv('/kaggle/input/us-accidents/US_Accidents_March23.csv')"
   ]
  },
  {
   "cell_type": "markdown",
   "id": "31a70042",
   "metadata": {
    "papermill": {
     "duration": 0.013557,
     "end_time": "2024-06-02T12:33:41.426799",
     "exception": false,
     "start_time": "2024-06-02T12:33:41.413242",
     "status": "completed"
    },
    "tags": []
   },
   "source": [
    "## Data Preparation and cleaning\n",
    "1. Load the files uisng Pandas\n",
    "2. Look at some information about the data and the columns\n",
    "3. Fix any missing or incorrect value"
   ]
  },
  {
   "cell_type": "code",
   "execution_count": 4,
   "id": "72ec4ff5",
   "metadata": {
    "execution": {
     "iopub.execute_input": "2024-06-02T12:33:41.456088Z",
     "iopub.status.busy": "2024-06-02T12:33:41.455642Z",
     "iopub.status.idle": "2024-06-02T12:33:46.468481Z",
     "shell.execute_reply": "2024-06-02T12:33:46.467050Z"
    },
    "papermill": {
     "duration": 5.030449,
     "end_time": "2024-06-02T12:33:46.471498",
     "exception": false,
     "start_time": "2024-06-02T12:33:41.441049",
     "status": "completed"
    },
    "tags": []
   },
   "outputs": [
    {
     "data": {
      "text/html": [
       "<div>\n",
       "<style scoped>\n",
       "    .dataframe tbody tr th:only-of-type {\n",
       "        vertical-align: middle;\n",
       "    }\n",
       "\n",
       "    .dataframe tbody tr th {\n",
       "        vertical-align: top;\n",
       "    }\n",
       "\n",
       "    .dataframe thead th {\n",
       "        text-align: right;\n",
       "    }\n",
       "</style>\n",
       "<table border=\"1\" class=\"dataframe\">\n",
       "  <thead>\n",
       "    <tr style=\"text-align: right;\">\n",
       "      <th></th>\n",
       "      <th>ID</th>\n",
       "      <th>Source</th>\n",
       "      <th>Severity</th>\n",
       "      <th>Start_Time</th>\n",
       "      <th>End_Time</th>\n",
       "      <th>Start_Lat</th>\n",
       "      <th>Start_Lng</th>\n",
       "      <th>End_Lat</th>\n",
       "      <th>End_Lng</th>\n",
       "      <th>Distance(mi)</th>\n",
       "      <th>...</th>\n",
       "      <th>Roundabout</th>\n",
       "      <th>Station</th>\n",
       "      <th>Stop</th>\n",
       "      <th>Traffic_Calming</th>\n",
       "      <th>Traffic_Signal</th>\n",
       "      <th>Turning_Loop</th>\n",
       "      <th>Sunrise_Sunset</th>\n",
       "      <th>Civil_Twilight</th>\n",
       "      <th>Nautical_Twilight</th>\n",
       "      <th>Astronomical_Twilight</th>\n",
       "    </tr>\n",
       "  </thead>\n",
       "  <tbody>\n",
       "    <tr>\n",
       "      <th>0</th>\n",
       "      <td>A-1</td>\n",
       "      <td>Source2</td>\n",
       "      <td>3</td>\n",
       "      <td>2016-02-08 05:46:00</td>\n",
       "      <td>2016-02-08 11:00:00</td>\n",
       "      <td>39.865147</td>\n",
       "      <td>-84.058723</td>\n",
       "      <td>NaN</td>\n",
       "      <td>NaN</td>\n",
       "      <td>0.010</td>\n",
       "      <td>...</td>\n",
       "      <td>False</td>\n",
       "      <td>False</td>\n",
       "      <td>False</td>\n",
       "      <td>False</td>\n",
       "      <td>False</td>\n",
       "      <td>False</td>\n",
       "      <td>Night</td>\n",
       "      <td>Night</td>\n",
       "      <td>Night</td>\n",
       "      <td>Night</td>\n",
       "    </tr>\n",
       "    <tr>\n",
       "      <th>1</th>\n",
       "      <td>A-2</td>\n",
       "      <td>Source2</td>\n",
       "      <td>2</td>\n",
       "      <td>2016-02-08 06:07:59</td>\n",
       "      <td>2016-02-08 06:37:59</td>\n",
       "      <td>39.928059</td>\n",
       "      <td>-82.831184</td>\n",
       "      <td>NaN</td>\n",
       "      <td>NaN</td>\n",
       "      <td>0.010</td>\n",
       "      <td>...</td>\n",
       "      <td>False</td>\n",
       "      <td>False</td>\n",
       "      <td>False</td>\n",
       "      <td>False</td>\n",
       "      <td>False</td>\n",
       "      <td>False</td>\n",
       "      <td>Night</td>\n",
       "      <td>Night</td>\n",
       "      <td>Night</td>\n",
       "      <td>Day</td>\n",
       "    </tr>\n",
       "    <tr>\n",
       "      <th>2</th>\n",
       "      <td>A-3</td>\n",
       "      <td>Source2</td>\n",
       "      <td>2</td>\n",
       "      <td>2016-02-08 06:49:27</td>\n",
       "      <td>2016-02-08 07:19:27</td>\n",
       "      <td>39.063148</td>\n",
       "      <td>-84.032608</td>\n",
       "      <td>NaN</td>\n",
       "      <td>NaN</td>\n",
       "      <td>0.010</td>\n",
       "      <td>...</td>\n",
       "      <td>False</td>\n",
       "      <td>False</td>\n",
       "      <td>False</td>\n",
       "      <td>False</td>\n",
       "      <td>True</td>\n",
       "      <td>False</td>\n",
       "      <td>Night</td>\n",
       "      <td>Night</td>\n",
       "      <td>Day</td>\n",
       "      <td>Day</td>\n",
       "    </tr>\n",
       "    <tr>\n",
       "      <th>3</th>\n",
       "      <td>A-4</td>\n",
       "      <td>Source2</td>\n",
       "      <td>3</td>\n",
       "      <td>2016-02-08 07:23:34</td>\n",
       "      <td>2016-02-08 07:53:34</td>\n",
       "      <td>39.747753</td>\n",
       "      <td>-84.205582</td>\n",
       "      <td>NaN</td>\n",
       "      <td>NaN</td>\n",
       "      <td>0.010</td>\n",
       "      <td>...</td>\n",
       "      <td>False</td>\n",
       "      <td>False</td>\n",
       "      <td>False</td>\n",
       "      <td>False</td>\n",
       "      <td>False</td>\n",
       "      <td>False</td>\n",
       "      <td>Night</td>\n",
       "      <td>Day</td>\n",
       "      <td>Day</td>\n",
       "      <td>Day</td>\n",
       "    </tr>\n",
       "    <tr>\n",
       "      <th>4</th>\n",
       "      <td>A-5</td>\n",
       "      <td>Source2</td>\n",
       "      <td>2</td>\n",
       "      <td>2016-02-08 07:39:07</td>\n",
       "      <td>2016-02-08 08:09:07</td>\n",
       "      <td>39.627781</td>\n",
       "      <td>-84.188354</td>\n",
       "      <td>NaN</td>\n",
       "      <td>NaN</td>\n",
       "      <td>0.010</td>\n",
       "      <td>...</td>\n",
       "      <td>False</td>\n",
       "      <td>False</td>\n",
       "      <td>False</td>\n",
       "      <td>False</td>\n",
       "      <td>True</td>\n",
       "      <td>False</td>\n",
       "      <td>Day</td>\n",
       "      <td>Day</td>\n",
       "      <td>Day</td>\n",
       "      <td>Day</td>\n",
       "    </tr>\n",
       "    <tr>\n",
       "      <th>...</th>\n",
       "      <td>...</td>\n",
       "      <td>...</td>\n",
       "      <td>...</td>\n",
       "      <td>...</td>\n",
       "      <td>...</td>\n",
       "      <td>...</td>\n",
       "      <td>...</td>\n",
       "      <td>...</td>\n",
       "      <td>...</td>\n",
       "      <td>...</td>\n",
       "      <td>...</td>\n",
       "      <td>...</td>\n",
       "      <td>...</td>\n",
       "      <td>...</td>\n",
       "      <td>...</td>\n",
       "      <td>...</td>\n",
       "      <td>...</td>\n",
       "      <td>...</td>\n",
       "      <td>...</td>\n",
       "      <td>...</td>\n",
       "      <td>...</td>\n",
       "    </tr>\n",
       "    <tr>\n",
       "      <th>7728389</th>\n",
       "      <td>A-7777757</td>\n",
       "      <td>Source1</td>\n",
       "      <td>2</td>\n",
       "      <td>2019-08-23 18:03:25</td>\n",
       "      <td>2019-08-23 18:32:01</td>\n",
       "      <td>34.002480</td>\n",
       "      <td>-117.379360</td>\n",
       "      <td>33.99888</td>\n",
       "      <td>-117.37094</td>\n",
       "      <td>0.543</td>\n",
       "      <td>...</td>\n",
       "      <td>False</td>\n",
       "      <td>False</td>\n",
       "      <td>False</td>\n",
       "      <td>False</td>\n",
       "      <td>False</td>\n",
       "      <td>False</td>\n",
       "      <td>Day</td>\n",
       "      <td>Day</td>\n",
       "      <td>Day</td>\n",
       "      <td>Day</td>\n",
       "    </tr>\n",
       "    <tr>\n",
       "      <th>7728390</th>\n",
       "      <td>A-7777758</td>\n",
       "      <td>Source1</td>\n",
       "      <td>2</td>\n",
       "      <td>2019-08-23 19:11:30</td>\n",
       "      <td>2019-08-23 19:38:23</td>\n",
       "      <td>32.766960</td>\n",
       "      <td>-117.148060</td>\n",
       "      <td>32.76555</td>\n",
       "      <td>-117.15363</td>\n",
       "      <td>0.338</td>\n",
       "      <td>...</td>\n",
       "      <td>False</td>\n",
       "      <td>False</td>\n",
       "      <td>False</td>\n",
       "      <td>False</td>\n",
       "      <td>False</td>\n",
       "      <td>False</td>\n",
       "      <td>Day</td>\n",
       "      <td>Day</td>\n",
       "      <td>Day</td>\n",
       "      <td>Day</td>\n",
       "    </tr>\n",
       "    <tr>\n",
       "      <th>7728391</th>\n",
       "      <td>A-7777759</td>\n",
       "      <td>Source1</td>\n",
       "      <td>2</td>\n",
       "      <td>2019-08-23 19:00:21</td>\n",
       "      <td>2019-08-23 19:28:49</td>\n",
       "      <td>33.775450</td>\n",
       "      <td>-117.847790</td>\n",
       "      <td>33.77740</td>\n",
       "      <td>-117.85727</td>\n",
       "      <td>0.561</td>\n",
       "      <td>...</td>\n",
       "      <td>False</td>\n",
       "      <td>False</td>\n",
       "      <td>False</td>\n",
       "      <td>False</td>\n",
       "      <td>False</td>\n",
       "      <td>False</td>\n",
       "      <td>Day</td>\n",
       "      <td>Day</td>\n",
       "      <td>Day</td>\n",
       "      <td>Day</td>\n",
       "    </tr>\n",
       "    <tr>\n",
       "      <th>7728392</th>\n",
       "      <td>A-7777760</td>\n",
       "      <td>Source1</td>\n",
       "      <td>2</td>\n",
       "      <td>2019-08-23 19:00:21</td>\n",
       "      <td>2019-08-23 19:29:42</td>\n",
       "      <td>33.992460</td>\n",
       "      <td>-118.403020</td>\n",
       "      <td>33.98311</td>\n",
       "      <td>-118.39565</td>\n",
       "      <td>0.772</td>\n",
       "      <td>...</td>\n",
       "      <td>False</td>\n",
       "      <td>False</td>\n",
       "      <td>False</td>\n",
       "      <td>False</td>\n",
       "      <td>False</td>\n",
       "      <td>False</td>\n",
       "      <td>Day</td>\n",
       "      <td>Day</td>\n",
       "      <td>Day</td>\n",
       "      <td>Day</td>\n",
       "    </tr>\n",
       "    <tr>\n",
       "      <th>7728393</th>\n",
       "      <td>A-7777761</td>\n",
       "      <td>Source1</td>\n",
       "      <td>2</td>\n",
       "      <td>2019-08-23 18:52:06</td>\n",
       "      <td>2019-08-23 19:21:31</td>\n",
       "      <td>34.133930</td>\n",
       "      <td>-117.230920</td>\n",
       "      <td>34.13736</td>\n",
       "      <td>-117.23934</td>\n",
       "      <td>0.537</td>\n",
       "      <td>...</td>\n",
       "      <td>False</td>\n",
       "      <td>False</td>\n",
       "      <td>False</td>\n",
       "      <td>False</td>\n",
       "      <td>False</td>\n",
       "      <td>False</td>\n",
       "      <td>Day</td>\n",
       "      <td>Day</td>\n",
       "      <td>Day</td>\n",
       "      <td>Day</td>\n",
       "    </tr>\n",
       "  </tbody>\n",
       "</table>\n",
       "<p>7728394 rows × 46 columns</p>\n",
       "</div>"
      ],
      "text/plain": [
       "                ID   Source  Severity           Start_Time  \\\n",
       "0              A-1  Source2         3  2016-02-08 05:46:00   \n",
       "1              A-2  Source2         2  2016-02-08 06:07:59   \n",
       "2              A-3  Source2         2  2016-02-08 06:49:27   \n",
       "3              A-4  Source2         3  2016-02-08 07:23:34   \n",
       "4              A-5  Source2         2  2016-02-08 07:39:07   \n",
       "...            ...      ...       ...                  ...   \n",
       "7728389  A-7777757  Source1         2  2019-08-23 18:03:25   \n",
       "7728390  A-7777758  Source1         2  2019-08-23 19:11:30   \n",
       "7728391  A-7777759  Source1         2  2019-08-23 19:00:21   \n",
       "7728392  A-7777760  Source1         2  2019-08-23 19:00:21   \n",
       "7728393  A-7777761  Source1         2  2019-08-23 18:52:06   \n",
       "\n",
       "                    End_Time  Start_Lat   Start_Lng   End_Lat    End_Lng  \\\n",
       "0        2016-02-08 11:00:00  39.865147  -84.058723       NaN        NaN   \n",
       "1        2016-02-08 06:37:59  39.928059  -82.831184       NaN        NaN   \n",
       "2        2016-02-08 07:19:27  39.063148  -84.032608       NaN        NaN   \n",
       "3        2016-02-08 07:53:34  39.747753  -84.205582       NaN        NaN   \n",
       "4        2016-02-08 08:09:07  39.627781  -84.188354       NaN        NaN   \n",
       "...                      ...        ...         ...       ...        ...   \n",
       "7728389  2019-08-23 18:32:01  34.002480 -117.379360  33.99888 -117.37094   \n",
       "7728390  2019-08-23 19:38:23  32.766960 -117.148060  32.76555 -117.15363   \n",
       "7728391  2019-08-23 19:28:49  33.775450 -117.847790  33.77740 -117.85727   \n",
       "7728392  2019-08-23 19:29:42  33.992460 -118.403020  33.98311 -118.39565   \n",
       "7728393  2019-08-23 19:21:31  34.133930 -117.230920  34.13736 -117.23934   \n",
       "\n",
       "         Distance(mi)  ... Roundabout Station   Stop Traffic_Calming  \\\n",
       "0               0.010  ...      False   False  False           False   \n",
       "1               0.010  ...      False   False  False           False   \n",
       "2               0.010  ...      False   False  False           False   \n",
       "3               0.010  ...      False   False  False           False   \n",
       "4               0.010  ...      False   False  False           False   \n",
       "...               ...  ...        ...     ...    ...             ...   \n",
       "7728389         0.543  ...      False   False  False           False   \n",
       "7728390         0.338  ...      False   False  False           False   \n",
       "7728391         0.561  ...      False   False  False           False   \n",
       "7728392         0.772  ...      False   False  False           False   \n",
       "7728393         0.537  ...      False   False  False           False   \n",
       "\n",
       "        Traffic_Signal Turning_Loop Sunrise_Sunset Civil_Twilight  \\\n",
       "0                False        False          Night          Night   \n",
       "1                False        False          Night          Night   \n",
       "2                 True        False          Night          Night   \n",
       "3                False        False          Night            Day   \n",
       "4                 True        False            Day            Day   \n",
       "...                ...          ...            ...            ...   \n",
       "7728389          False        False            Day            Day   \n",
       "7728390          False        False            Day            Day   \n",
       "7728391          False        False            Day            Day   \n",
       "7728392          False        False            Day            Day   \n",
       "7728393          False        False            Day            Day   \n",
       "\n",
       "        Nautical_Twilight Astronomical_Twilight  \n",
       "0                   Night                 Night  \n",
       "1                   Night                   Day  \n",
       "2                     Day                   Day  \n",
       "3                     Day                   Day  \n",
       "4                     Day                   Day  \n",
       "...                   ...                   ...  \n",
       "7728389               Day                   Day  \n",
       "7728390               Day                   Day  \n",
       "7728391               Day                   Day  \n",
       "7728392               Day                   Day  \n",
       "7728393               Day                   Day  \n",
       "\n",
       "[7728394 rows x 46 columns]"
      ]
     },
     "execution_count": 4,
     "metadata": {},
     "output_type": "execute_result"
    }
   ],
   "source": [
    "df"
   ]
  },
  {
   "cell_type": "code",
   "execution_count": 5,
   "id": "e1f3f193",
   "metadata": {
    "execution": {
     "iopub.execute_input": "2024-06-02T12:33:46.503182Z",
     "iopub.status.busy": "2024-06-02T12:33:46.501674Z",
     "iopub.status.idle": "2024-06-02T12:33:46.512139Z",
     "shell.execute_reply": "2024-06-02T12:33:46.510536Z"
    },
    "papermill": {
     "duration": 0.028833,
     "end_time": "2024-06-02T12:33:46.514813",
     "exception": false,
     "start_time": "2024-06-02T12:33:46.485980",
     "status": "completed"
    },
    "tags": []
   },
   "outputs": [
    {
     "data": {
      "text/plain": [
       "Index(['ID', 'Source', 'Severity', 'Start_Time', 'End_Time', 'Start_Lat',\n",
       "       'Start_Lng', 'End_Lat', 'End_Lng', 'Distance(mi)', 'Description',\n",
       "       'Street', 'City', 'County', 'State', 'Zipcode', 'Country', 'Timezone',\n",
       "       'Airport_Code', 'Weather_Timestamp', 'Temperature(F)', 'Wind_Chill(F)',\n",
       "       'Humidity(%)', 'Pressure(in)', 'Visibility(mi)', 'Wind_Direction',\n",
       "       'Wind_Speed(mph)', 'Precipitation(in)', 'Weather_Condition', 'Amenity',\n",
       "       'Bump', 'Crossing', 'Give_Way', 'Junction', 'No_Exit', 'Railway',\n",
       "       'Roundabout', 'Station', 'Stop', 'Traffic_Calming', 'Traffic_Signal',\n",
       "       'Turning_Loop', 'Sunrise_Sunset', 'Civil_Twilight', 'Nautical_Twilight',\n",
       "       'Astronomical_Twilight'],\n",
       "      dtype='object')"
      ]
     },
     "execution_count": 5,
     "metadata": {},
     "output_type": "execute_result"
    }
   ],
   "source": [
    "df.columns"
   ]
  },
  {
   "cell_type": "code",
   "execution_count": 6,
   "id": "89921438",
   "metadata": {
    "execution": {
     "iopub.execute_input": "2024-06-02T12:33:46.548160Z",
     "iopub.status.busy": "2024-06-02T12:33:46.546472Z",
     "iopub.status.idle": "2024-06-02T12:33:46.575720Z",
     "shell.execute_reply": "2024-06-02T12:33:46.573833Z"
    },
    "papermill": {
     "duration": 0.050023,
     "end_time": "2024-06-02T12:33:46.579058",
     "exception": false,
     "start_time": "2024-06-02T12:33:46.529035",
     "status": "completed"
    },
    "tags": []
   },
   "outputs": [
    {
     "name": "stdout",
     "output_type": "stream",
     "text": [
      "<class 'pandas.core.frame.DataFrame'>\n",
      "RangeIndex: 7728394 entries, 0 to 7728393\n",
      "Data columns (total 46 columns):\n",
      " #   Column                 Dtype  \n",
      "---  ------                 -----  \n",
      " 0   ID                     object \n",
      " 1   Source                 object \n",
      " 2   Severity               int64  \n",
      " 3   Start_Time             object \n",
      " 4   End_Time               object \n",
      " 5   Start_Lat              float64\n",
      " 6   Start_Lng              float64\n",
      " 7   End_Lat                float64\n",
      " 8   End_Lng                float64\n",
      " 9   Distance(mi)           float64\n",
      " 10  Description            object \n",
      " 11  Street                 object \n",
      " 12  City                   object \n",
      " 13  County                 object \n",
      " 14  State                  object \n",
      " 15  Zipcode                object \n",
      " 16  Country                object \n",
      " 17  Timezone               object \n",
      " 18  Airport_Code           object \n",
      " 19  Weather_Timestamp      object \n",
      " 20  Temperature(F)         float64\n",
      " 21  Wind_Chill(F)          float64\n",
      " 22  Humidity(%)            float64\n",
      " 23  Pressure(in)           float64\n",
      " 24  Visibility(mi)         float64\n",
      " 25  Wind_Direction         object \n",
      " 26  Wind_Speed(mph)        float64\n",
      " 27  Precipitation(in)      float64\n",
      " 28  Weather_Condition      object \n",
      " 29  Amenity                bool   \n",
      " 30  Bump                   bool   \n",
      " 31  Crossing               bool   \n",
      " 32  Give_Way               bool   \n",
      " 33  Junction               bool   \n",
      " 34  No_Exit                bool   \n",
      " 35  Railway                bool   \n",
      " 36  Roundabout             bool   \n",
      " 37  Station                bool   \n",
      " 38  Stop                   bool   \n",
      " 39  Traffic_Calming        bool   \n",
      " 40  Traffic_Signal         bool   \n",
      " 41  Turning_Loop           bool   \n",
      " 42  Sunrise_Sunset         object \n",
      " 43  Civil_Twilight         object \n",
      " 44  Nautical_Twilight      object \n",
      " 45  Astronomical_Twilight  object \n",
      "dtypes: bool(13), float64(12), int64(1), object(20)\n",
      "memory usage: 2.0+ GB\n"
     ]
    }
   ],
   "source": [
    "df.info()"
   ]
  },
  {
   "cell_type": "code",
   "execution_count": 7,
   "id": "85841648",
   "metadata": {
    "execution": {
     "iopub.execute_input": "2024-06-02T12:33:46.612806Z",
     "iopub.status.busy": "2024-06-02T12:33:46.612263Z",
     "iopub.status.idle": "2024-06-02T12:33:51.616476Z",
     "shell.execute_reply": "2024-06-02T12:33:51.615288Z"
    },
    "papermill": {
     "duration": 5.025187,
     "end_time": "2024-06-02T12:33:51.619196",
     "exception": false,
     "start_time": "2024-06-02T12:33:46.594009",
     "status": "completed"
    },
    "tags": []
   },
   "outputs": [
    {
     "data": {
      "text/html": [
       "<div>\n",
       "<style scoped>\n",
       "    .dataframe tbody tr th:only-of-type {\n",
       "        vertical-align: middle;\n",
       "    }\n",
       "\n",
       "    .dataframe tbody tr th {\n",
       "        vertical-align: top;\n",
       "    }\n",
       "\n",
       "    .dataframe thead th {\n",
       "        text-align: right;\n",
       "    }\n",
       "</style>\n",
       "<table border=\"1\" class=\"dataframe\">\n",
       "  <thead>\n",
       "    <tr style=\"text-align: right;\">\n",
       "      <th></th>\n",
       "      <th>Severity</th>\n",
       "      <th>Start_Lat</th>\n",
       "      <th>Start_Lng</th>\n",
       "      <th>End_Lat</th>\n",
       "      <th>End_Lng</th>\n",
       "      <th>Distance(mi)</th>\n",
       "      <th>Temperature(F)</th>\n",
       "      <th>Wind_Chill(F)</th>\n",
       "      <th>Humidity(%)</th>\n",
       "      <th>Pressure(in)</th>\n",
       "      <th>Visibility(mi)</th>\n",
       "      <th>Wind_Speed(mph)</th>\n",
       "      <th>Precipitation(in)</th>\n",
       "    </tr>\n",
       "  </thead>\n",
       "  <tbody>\n",
       "    <tr>\n",
       "      <th>count</th>\n",
       "      <td>7.728394e+06</td>\n",
       "      <td>7.728394e+06</td>\n",
       "      <td>7.728394e+06</td>\n",
       "      <td>4.325632e+06</td>\n",
       "      <td>4.325632e+06</td>\n",
       "      <td>7.728394e+06</td>\n",
       "      <td>7.564541e+06</td>\n",
       "      <td>5.729375e+06</td>\n",
       "      <td>7.554250e+06</td>\n",
       "      <td>7.587715e+06</td>\n",
       "      <td>7.551296e+06</td>\n",
       "      <td>7.157161e+06</td>\n",
       "      <td>5.524808e+06</td>\n",
       "    </tr>\n",
       "    <tr>\n",
       "      <th>mean</th>\n",
       "      <td>2.212384e+00</td>\n",
       "      <td>3.620119e+01</td>\n",
       "      <td>-9.470255e+01</td>\n",
       "      <td>3.626183e+01</td>\n",
       "      <td>-9.572557e+01</td>\n",
       "      <td>5.618423e-01</td>\n",
       "      <td>6.166329e+01</td>\n",
       "      <td>5.825105e+01</td>\n",
       "      <td>6.483104e+01</td>\n",
       "      <td>2.953899e+01</td>\n",
       "      <td>9.090376e+00</td>\n",
       "      <td>7.685490e+00</td>\n",
       "      <td>8.407210e-03</td>\n",
       "    </tr>\n",
       "    <tr>\n",
       "      <th>std</th>\n",
       "      <td>4.875313e-01</td>\n",
       "      <td>5.076079e+00</td>\n",
       "      <td>1.739176e+01</td>\n",
       "      <td>5.272905e+00</td>\n",
       "      <td>1.810793e+01</td>\n",
       "      <td>1.776811e+00</td>\n",
       "      <td>1.901365e+01</td>\n",
       "      <td>2.238983e+01</td>\n",
       "      <td>2.282097e+01</td>\n",
       "      <td>1.006190e+00</td>\n",
       "      <td>2.688316e+00</td>\n",
       "      <td>5.424983e+00</td>\n",
       "      <td>1.102246e-01</td>\n",
       "    </tr>\n",
       "    <tr>\n",
       "      <th>min</th>\n",
       "      <td>1.000000e+00</td>\n",
       "      <td>2.455480e+01</td>\n",
       "      <td>-1.246238e+02</td>\n",
       "      <td>2.456601e+01</td>\n",
       "      <td>-1.245457e+02</td>\n",
       "      <td>0.000000e+00</td>\n",
       "      <td>-8.900000e+01</td>\n",
       "      <td>-8.900000e+01</td>\n",
       "      <td>1.000000e+00</td>\n",
       "      <td>0.000000e+00</td>\n",
       "      <td>0.000000e+00</td>\n",
       "      <td>0.000000e+00</td>\n",
       "      <td>0.000000e+00</td>\n",
       "    </tr>\n",
       "    <tr>\n",
       "      <th>25%</th>\n",
       "      <td>2.000000e+00</td>\n",
       "      <td>3.339963e+01</td>\n",
       "      <td>-1.172194e+02</td>\n",
       "      <td>3.346207e+01</td>\n",
       "      <td>-1.177543e+02</td>\n",
       "      <td>0.000000e+00</td>\n",
       "      <td>4.900000e+01</td>\n",
       "      <td>4.300000e+01</td>\n",
       "      <td>4.800000e+01</td>\n",
       "      <td>2.937000e+01</td>\n",
       "      <td>1.000000e+01</td>\n",
       "      <td>4.600000e+00</td>\n",
       "      <td>0.000000e+00</td>\n",
       "    </tr>\n",
       "    <tr>\n",
       "      <th>50%</th>\n",
       "      <td>2.000000e+00</td>\n",
       "      <td>3.582397e+01</td>\n",
       "      <td>-8.776662e+01</td>\n",
       "      <td>3.618349e+01</td>\n",
       "      <td>-8.802789e+01</td>\n",
       "      <td>3.000000e-02</td>\n",
       "      <td>6.400000e+01</td>\n",
       "      <td>6.200000e+01</td>\n",
       "      <td>6.700000e+01</td>\n",
       "      <td>2.986000e+01</td>\n",
       "      <td>1.000000e+01</td>\n",
       "      <td>7.000000e+00</td>\n",
       "      <td>0.000000e+00</td>\n",
       "    </tr>\n",
       "    <tr>\n",
       "      <th>75%</th>\n",
       "      <td>2.000000e+00</td>\n",
       "      <td>4.008496e+01</td>\n",
       "      <td>-8.035368e+01</td>\n",
       "      <td>4.017892e+01</td>\n",
       "      <td>-8.024709e+01</td>\n",
       "      <td>4.640000e-01</td>\n",
       "      <td>7.600000e+01</td>\n",
       "      <td>7.500000e+01</td>\n",
       "      <td>8.400000e+01</td>\n",
       "      <td>3.003000e+01</td>\n",
       "      <td>1.000000e+01</td>\n",
       "      <td>1.040000e+01</td>\n",
       "      <td>0.000000e+00</td>\n",
       "    </tr>\n",
       "    <tr>\n",
       "      <th>max</th>\n",
       "      <td>4.000000e+00</td>\n",
       "      <td>4.900220e+01</td>\n",
       "      <td>-6.711317e+01</td>\n",
       "      <td>4.907500e+01</td>\n",
       "      <td>-6.710924e+01</td>\n",
       "      <td>4.417500e+02</td>\n",
       "      <td>2.070000e+02</td>\n",
       "      <td>2.070000e+02</td>\n",
       "      <td>1.000000e+02</td>\n",
       "      <td>5.863000e+01</td>\n",
       "      <td>1.400000e+02</td>\n",
       "      <td>1.087000e+03</td>\n",
       "      <td>3.647000e+01</td>\n",
       "    </tr>\n",
       "  </tbody>\n",
       "</table>\n",
       "</div>"
      ],
      "text/plain": [
       "           Severity     Start_Lat     Start_Lng       End_Lat       End_Lng  \\\n",
       "count  7.728394e+06  7.728394e+06  7.728394e+06  4.325632e+06  4.325632e+06   \n",
       "mean   2.212384e+00  3.620119e+01 -9.470255e+01  3.626183e+01 -9.572557e+01   \n",
       "std    4.875313e-01  5.076079e+00  1.739176e+01  5.272905e+00  1.810793e+01   \n",
       "min    1.000000e+00  2.455480e+01 -1.246238e+02  2.456601e+01 -1.245457e+02   \n",
       "25%    2.000000e+00  3.339963e+01 -1.172194e+02  3.346207e+01 -1.177543e+02   \n",
       "50%    2.000000e+00  3.582397e+01 -8.776662e+01  3.618349e+01 -8.802789e+01   \n",
       "75%    2.000000e+00  4.008496e+01 -8.035368e+01  4.017892e+01 -8.024709e+01   \n",
       "max    4.000000e+00  4.900220e+01 -6.711317e+01  4.907500e+01 -6.710924e+01   \n",
       "\n",
       "       Distance(mi)  Temperature(F)  Wind_Chill(F)   Humidity(%)  \\\n",
       "count  7.728394e+06    7.564541e+06   5.729375e+06  7.554250e+06   \n",
       "mean   5.618423e-01    6.166329e+01   5.825105e+01  6.483104e+01   \n",
       "std    1.776811e+00    1.901365e+01   2.238983e+01  2.282097e+01   \n",
       "min    0.000000e+00   -8.900000e+01  -8.900000e+01  1.000000e+00   \n",
       "25%    0.000000e+00    4.900000e+01   4.300000e+01  4.800000e+01   \n",
       "50%    3.000000e-02    6.400000e+01   6.200000e+01  6.700000e+01   \n",
       "75%    4.640000e-01    7.600000e+01   7.500000e+01  8.400000e+01   \n",
       "max    4.417500e+02    2.070000e+02   2.070000e+02  1.000000e+02   \n",
       "\n",
       "       Pressure(in)  Visibility(mi)  Wind_Speed(mph)  Precipitation(in)  \n",
       "count  7.587715e+06    7.551296e+06     7.157161e+06       5.524808e+06  \n",
       "mean   2.953899e+01    9.090376e+00     7.685490e+00       8.407210e-03  \n",
       "std    1.006190e+00    2.688316e+00     5.424983e+00       1.102246e-01  \n",
       "min    0.000000e+00    0.000000e+00     0.000000e+00       0.000000e+00  \n",
       "25%    2.937000e+01    1.000000e+01     4.600000e+00       0.000000e+00  \n",
       "50%    2.986000e+01    1.000000e+01     7.000000e+00       0.000000e+00  \n",
       "75%    3.003000e+01    1.000000e+01     1.040000e+01       0.000000e+00  \n",
       "max    5.863000e+01    1.400000e+02     1.087000e+03       3.647000e+01  "
      ]
     },
     "execution_count": 7,
     "metadata": {},
     "output_type": "execute_result"
    }
   ],
   "source": [
    "df.describe()"
   ]
  },
  {
   "cell_type": "markdown",
   "id": "1a1a28fd",
   "metadata": {
    "papermill": {
     "duration": 0.014366,
     "end_time": "2024-06-02T12:33:51.650440",
     "exception": false,
     "start_time": "2024-06-02T12:33:51.636074",
     "status": "completed"
    },
    "tags": []
   },
   "source": [
    "## Ask & answer questions\n",
    "1. Are there more acccidents in warmer or colder areas?\n",
    "2. Which 5 states have the highest number of accidents? How about per capita?\n",
    "3. Among the top 100 cities in the number of accidents, which state they belong to most frequently?\n",
    "4. What time the day are accidents most frequent in?\n",
    "5. Which days of the week have most accidents?\n",
    "6. Which month have the most accidents?\n",
    "7. What is the trend of the accidents year over year(Decreasing/Increasing)?\n"
   ]
  },
  {
   "cell_type": "code",
   "execution_count": 8,
   "id": "2054ed28",
   "metadata": {
    "execution": {
     "iopub.execute_input": "2024-06-02T12:33:51.681899Z",
     "iopub.status.busy": "2024-06-02T12:33:51.680973Z",
     "iopub.status.idle": "2024-06-02T12:34:08.597002Z",
     "shell.execute_reply": "2024-06-02T12:34:08.595561Z"
    },
    "papermill": {
     "duration": 16.934952,
     "end_time": "2024-06-02T12:34:08.599781",
     "exception": false,
     "start_time": "2024-06-02T12:33:51.664829",
     "status": "completed"
    },
    "tags": []
   },
   "outputs": [
    {
     "data": {
      "text/plain": [
       "End_Lat                  3402762\n",
       "End_Lng                  3402762\n",
       "Precipitation(in)        2203586\n",
       "Wind_Chill(F)            1999019\n",
       "Wind_Speed(mph)           571233\n",
       "Visibility(mi)            177098\n",
       "Wind_Direction            175206\n",
       "Humidity(%)               174144\n",
       "Weather_Condition         173459\n",
       "Temperature(F)            163853\n",
       "Pressure(in)              140679\n",
       "Weather_Timestamp         120228\n",
       "Nautical_Twilight          23246\n",
       "Civil_Twilight             23246\n",
       "Sunrise_Sunset             23246\n",
       "Astronomical_Twilight      23246\n",
       "Airport_Code               22635\n",
       "Street                     10869\n",
       "Timezone                    7808\n",
       "Zipcode                     1915\n",
       "City                         253\n",
       "Description                    5\n",
       "Traffic_Signal                 0\n",
       "Roundabout                     0\n",
       "Station                        0\n",
       "Stop                           0\n",
       "Traffic_Calming                0\n",
       "Country                        0\n",
       "Turning_Loop                   0\n",
       "No_Exit                        0\n",
       "End_Time                       0\n",
       "Start_Time                     0\n",
       "Severity                       0\n",
       "Railway                        0\n",
       "Crossing                       0\n",
       "Junction                       0\n",
       "Give_Way                       0\n",
       "Bump                           0\n",
       "Amenity                        0\n",
       "Start_Lat                      0\n",
       "Start_Lng                      0\n",
       "Distance(mi)                   0\n",
       "Source                         0\n",
       "County                         0\n",
       "State                          0\n",
       "ID                             0\n",
       "dtype: int64"
      ]
     },
     "execution_count": 8,
     "metadata": {},
     "output_type": "execute_result"
    }
   ],
   "source": [
    "df.isnull().sum().sort_values(ascending = False)"
   ]
  },
  {
   "cell_type": "code",
   "execution_count": 9,
   "id": "51365529",
   "metadata": {
    "execution": {
     "iopub.execute_input": "2024-06-02T12:34:08.631232Z",
     "iopub.status.busy": "2024-06-02T12:34:08.630826Z",
     "iopub.status.idle": "2024-06-02T12:34:08.954507Z",
     "shell.execute_reply": "2024-06-02T12:34:08.953254Z"
    },
    "papermill": {
     "duration": 0.342339,
     "end_time": "2024-06-02T12:34:08.957211",
     "exception": false,
     "start_time": "2024-06-02T12:34:08.614872",
     "status": "completed"
    },
    "tags": []
   },
   "outputs": [
    {
     "data": {
      "text/plain": [
       "13"
      ]
     },
     "execution_count": 9,
     "metadata": {},
     "output_type": "execute_result"
    }
   ],
   "source": [
    "numerics = ['int16', 'int32', 'int64', 'float16', 'float32', 'float64']\n",
    "numeric_df = df.select_dtypes(include=numerics)\n",
    "len(numeric_df.columns)"
   ]
  },
  {
   "cell_type": "code",
   "execution_count": 10,
   "id": "1e3b3805",
   "metadata": {
    "execution": {
     "iopub.execute_input": "2024-06-02T12:34:08.989902Z",
     "iopub.status.busy": "2024-06-02T12:34:08.988815Z",
     "iopub.status.idle": "2024-06-02T12:34:25.842372Z",
     "shell.execute_reply": "2024-06-02T12:34:25.840859Z"
    },
    "papermill": {
     "duration": 16.872508,
     "end_time": "2024-06-02T12:34:25.845360",
     "exception": false,
     "start_time": "2024-06-02T12:34:08.972852",
     "status": "completed"
    },
    "tags": []
   },
   "outputs": [
    {
     "data": {
      "text/plain": [
       "End_Lat                  4.402935e-01\n",
       "End_Lng                  4.402935e-01\n",
       "Precipitation(in)        2.851286e-01\n",
       "Wind_Chill(F)            2.586590e-01\n",
       "Wind_Speed(mph)          7.391355e-02\n",
       "Visibility(mi)           2.291524e-02\n",
       "Wind_Direction           2.267043e-02\n",
       "Humidity(%)              2.253301e-02\n",
       "Weather_Condition        2.244438e-02\n",
       "Temperature(F)           2.120143e-02\n",
       "Pressure(in)             1.820288e-02\n",
       "Weather_Timestamp        1.555666e-02\n",
       "Nautical_Twilight        3.007869e-03\n",
       "Civil_Twilight           3.007869e-03\n",
       "Sunrise_Sunset           3.007869e-03\n",
       "Astronomical_Twilight    3.007869e-03\n",
       "Airport_Code             2.928810e-03\n",
       "Street                   1.406372e-03\n",
       "Timezone                 1.010300e-03\n",
       "Zipcode                  2.477876e-04\n",
       "City                     3.273643e-05\n",
       "Description              6.469649e-07\n",
       "Traffic_Signal           0.000000e+00\n",
       "Roundabout               0.000000e+00\n",
       "Station                  0.000000e+00\n",
       "Stop                     0.000000e+00\n",
       "Traffic_Calming          0.000000e+00\n",
       "Country                  0.000000e+00\n",
       "Turning_Loop             0.000000e+00\n",
       "No_Exit                  0.000000e+00\n",
       "End_Time                 0.000000e+00\n",
       "Start_Time               0.000000e+00\n",
       "Severity                 0.000000e+00\n",
       "Railway                  0.000000e+00\n",
       "Crossing                 0.000000e+00\n",
       "Junction                 0.000000e+00\n",
       "Give_Way                 0.000000e+00\n",
       "Bump                     0.000000e+00\n",
       "Amenity                  0.000000e+00\n",
       "Start_Lat                0.000000e+00\n",
       "Start_Lng                0.000000e+00\n",
       "Distance(mi)             0.000000e+00\n",
       "Source                   0.000000e+00\n",
       "County                   0.000000e+00\n",
       "State                    0.000000e+00\n",
       "ID                       0.000000e+00\n",
       "dtype: float64"
      ]
     },
     "execution_count": 10,
     "metadata": {},
     "output_type": "execute_result"
    }
   ],
   "source": [
    "Missing_percentages = df.isnull().sum().sort_values(ascending = False)/ len(df)\n",
    "Missing_percentages"
   ]
  },
  {
   "cell_type": "code",
   "execution_count": 11,
   "id": "67700c15",
   "metadata": {
    "execution": {
     "iopub.execute_input": "2024-06-02T12:34:25.879072Z",
     "iopub.status.busy": "2024-06-02T12:34:25.878625Z",
     "iopub.status.idle": "2024-06-02T12:34:26.485736Z",
     "shell.execute_reply": "2024-06-02T12:34:26.484286Z"
    },
    "papermill": {
     "duration": 0.626242,
     "end_time": "2024-06-02T12:34:26.488471",
     "exception": false,
     "start_time": "2024-06-02T12:34:25.862229",
     "status": "completed"
    },
    "tags": []
   },
   "outputs": [
    {
     "data": {
      "text/plain": [
       "<Axes: >"
      ]
     },
     "execution_count": 11,
     "metadata": {},
     "output_type": "execute_result"
    },
    {
     "data": {
      "image/png": "[encoded data removed]",
      "text/plain": [
       "<Figure size 640x480 with 1 Axes>"
      ]
     },
     "metadata": {},
     "output_type": "display_data"
    }
   ],
   "source": [
    "Missing_percentages[Missing_percentages !=0].plot(kind = 'barh')"
   ]
  },
  {
   "cell_type": "markdown",
   "id": "f4c8fe79",
   "metadata": {
    "papermill": {
     "duration": 0.018218,
     "end_time": "2024-06-02T12:34:26.525982",
     "exception": false,
     "start_time": "2024-06-02T12:34:26.507764",
     "status": "completed"
    },
    "tags": []
   },
   "source": [
    "## Exploratary Data analysis\n",
    "\n",
    "Columns That I will analyze.\n",
    "1. Distance(mi)\n",
    "2. City\n",
    "3. Start_Time\n",
    "4. Start Lat & Start Long\n",
    "5. Temperature\n",
    "6. Weather Condition\n",
    "\n"
   ]
  },
  {
   "cell_type": "code",
   "execution_count": 12,
   "id": "7e1aa56a",
   "metadata": {
    "execution": {
     "iopub.execute_input": "2024-06-02T12:34:26.561737Z",
     "iopub.status.busy": "2024-06-02T12:34:26.561282Z",
     "iopub.status.idle": "2024-06-02T12:34:26.569831Z",
     "shell.execute_reply": "2024-06-02T12:34:26.568565Z"
    },
    "papermill": {
     "duration": 0.030755,
     "end_time": "2024-06-02T12:34:26.573077",
     "exception": false,
     "start_time": "2024-06-02T12:34:26.542322",
     "status": "completed"
    },
    "tags": []
   },
   "outputs": [
    {
     "data": {
      "text/plain": [
       "Index(['ID', 'Source', 'Severity', 'Start_Time', 'End_Time', 'Start_Lat',\n",
       "       'Start_Lng', 'End_Lat', 'End_Lng', 'Distance(mi)', 'Description',\n",
       "       'Street', 'City', 'County', 'State', 'Zipcode', 'Country', 'Timezone',\n",
       "       'Airport_Code', 'Weather_Timestamp', 'Temperature(F)', 'Wind_Chill(F)',\n",
       "       'Humidity(%)', 'Pressure(in)', 'Visibility(mi)', 'Wind_Direction',\n",
       "       'Wind_Speed(mph)', 'Precipitation(in)', 'Weather_Condition', 'Amenity',\n",
       "       'Bump', 'Crossing', 'Give_Way', 'Junction', 'No_Exit', 'Railway',\n",
       "       'Roundabout', 'Station', 'Stop', 'Traffic_Calming', 'Traffic_Signal',\n",
       "       'Turning_Loop', 'Sunrise_Sunset', 'Civil_Twilight', 'Nautical_Twilight',\n",
       "       'Astronomical_Twilight'],\n",
       "      dtype='object')"
      ]
     },
     "execution_count": 12,
     "metadata": {},
     "output_type": "execute_result"
    }
   ],
   "source": [
    "df.columns"
   ]
  },
  {
   "cell_type": "markdown",
   "id": "c67ac678",
   "metadata": {
    "papermill": {
     "duration": 0.017812,
     "end_time": "2024-06-02T12:34:26.607852",
     "exception": false,
     "start_time": "2024-06-02T12:34:26.590040",
     "status": "completed"
    },
    "tags": []
   },
   "source": [
    "Remove the columns that you dont want to use"
   ]
  },
  {
   "cell_type": "code",
   "execution_count": 13,
   "id": "d2520b96",
   "metadata": {
    "execution": {
     "iopub.execute_input": "2024-06-02T12:34:26.644210Z",
     "iopub.status.busy": "2024-06-02T12:34:26.643809Z",
     "iopub.status.idle": "2024-06-02T12:34:27.615057Z",
     "shell.execute_reply": "2024-06-02T12:34:27.613275Z"
    },
    "papermill": {
     "duration": 0.993369,
     "end_time": "2024-06-02T12:34:27.617817",
     "exception": false,
     "start_time": "2024-06-02T12:34:26.624448",
     "status": "completed"
    },
    "tags": []
   },
   "outputs": [],
   "source": [
    "cities = df['City'].unique()"
   ]
  },
  {
   "cell_type": "code",
   "execution_count": 14,
   "id": "0a487b60",
   "metadata": {
    "execution": {
     "iopub.execute_input": "2024-06-02T12:34:27.653835Z",
     "iopub.status.busy": "2024-06-02T12:34:27.653366Z",
     "iopub.status.idle": "2024-06-02T12:34:27.661758Z",
     "shell.execute_reply": "2024-06-02T12:34:27.660414Z"
    },
    "papermill": {
     "duration": 0.0304,
     "end_time": "2024-06-02T12:34:27.664343",
     "exception": false,
     "start_time": "2024-06-02T12:34:27.633943",
     "status": "completed"
    },
    "tags": []
   },
   "outputs": [
    {
     "data": {
      "text/plain": [
       "13679"
      ]
     },
     "execution_count": 14,
     "metadata": {},
     "output_type": "execute_result"
    }
   ],
   "source": [
    "len(cities)"
   ]
  },
  {
   "cell_type": "code",
   "execution_count": 15,
   "id": "e7887953",
   "metadata": {
    "execution": {
     "iopub.execute_input": "2024-06-02T12:34:27.699831Z",
     "iopub.status.busy": "2024-06-02T12:34:27.699330Z",
     "iopub.status.idle": "2024-06-02T12:34:29.448066Z",
     "shell.execute_reply": "2024-06-02T12:34:29.446865Z"
    },
    "papermill": {
     "duration": 1.769735,
     "end_time": "2024-06-02T12:34:29.450875",
     "exception": false,
     "start_time": "2024-06-02T12:34:27.681140",
     "status": "completed"
    },
    "tags": []
   },
   "outputs": [
    {
     "data": {
      "text/plain": [
       "City\n",
       "Miami                           186917\n",
       "Houston                         169609\n",
       "Los Angeles                     156491\n",
       "Charlotte                       138652\n",
       "Dallas                          130939\n",
       "                                 ...  \n",
       "Benkelman                            1\n",
       "Old Appleton                         1\n",
       "Wildrose                             1\n",
       "Mc Nabb                              1\n",
       "American Fork-Pleasant Grove         1\n",
       "Name: count, Length: 13678, dtype: int64"
      ]
     },
     "execution_count": 15,
     "metadata": {},
     "output_type": "execute_result"
    }
   ],
   "source": [
    "cities_by_accident= df['City'].value_counts()\n",
    "cities_by_accident"
   ]
  },
  {
   "cell_type": "markdown",
   "id": "360d0261",
   "metadata": {
    "papermill": {
     "duration": 0.016164,
     "end_time": "2024-06-02T12:34:29.484271",
     "exception": false,
     "start_time": "2024-06-02T12:34:29.468107",
     "status": "completed"
    },
    "tags": []
   },
   "source": []
  },
  {
   "cell_type": "code",
   "execution_count": 16,
   "id": "8f7a7f7d",
   "metadata": {
    "execution": {
     "iopub.execute_input": "2024-06-02T12:34:29.519434Z",
     "iopub.status.busy": "2024-06-02T12:34:29.519011Z",
     "iopub.status.idle": "2024-06-02T12:34:30.064968Z",
     "shell.execute_reply": "2024-06-02T12:34:30.063625Z"
    },
    "papermill": {
     "duration": 0.567037,
     "end_time": "2024-06-02T12:34:30.067873",
     "exception": false,
     "start_time": "2024-06-02T12:34:29.500836",
     "status": "completed"
    },
    "tags": []
   },
   "outputs": [
    {
     "data": {
      "text/plain": [
       "<Axes: ylabel='City'>"
      ]
     },
     "execution_count": 16,
     "metadata": {},
     "output_type": "execute_result"
    },
    {
     "data": {
      "image/png": "[encoded data removed]",
      "text/plain": [
       "<Figure size 640x480 with 1 Axes>"
      ]
     },
     "metadata": {},
     "output_type": "display_data"
    }
   ],
   "source": [
    "cities_by_accident[:30].plot(kind =  'barh')"
   ]
  },
  {
   "cell_type": "code",
   "execution_count": 17,
   "id": "acf17e2b",
   "metadata": {
    "execution": {
     "iopub.execute_input": "2024-06-02T12:34:30.107457Z",
     "iopub.status.busy": "2024-06-02T12:34:30.107032Z",
     "iopub.status.idle": "2024-06-02T12:34:31.012015Z",
     "shell.execute_reply": "2024-06-02T12:34:31.010828Z"
    },
    "papermill": {
     "duration": 0.927984,
     "end_time": "2024-06-02T12:34:31.015127",
     "exception": false,
     "start_time": "2024-06-02T12:34:30.087143",
     "status": "completed"
    },
    "tags": []
   },
   "outputs": [
    {
     "name": "stderr",
     "output_type": "stream",
     "text": [
      "/opt/conda/lib/python3.10/site-packages/seaborn/_oldcore.py:1119: FutureWarning: use_inf_as_na option is deprecated and will be removed in a future version. Convert inf values to NaN before operating instead.\n",
      "  with pd.option_context('mode.use_inf_as_na', True):\n"
     ]
    },
    {
     "data": {
      "text/plain": [
       "<seaborn.axisgrid.FacetGrid at 0x7d99128a8c70>"
      ]
     },
     "execution_count": 17,
     "metadata": {},
     "output_type": "execute_result"
    },
    {
     "data": {
      "image/png": "[encoded data removed]",
      "text/plain": [
       "<Figure size 500x500 with 1 Axes>"
      ]
     },
     "metadata": {},
     "output_type": "display_data"
    }
   ],
   "source": [
    "sns.set_style('darkgrid')\n",
    "\n",
    "sns.displot(data = cities_by_accident, kind = 'kde')"
   ]
  },
  {
   "cell_type": "code",
   "execution_count": 18,
   "id": "bdf78582",
   "metadata": {
    "execution": {
     "iopub.execute_input": "2024-06-02T12:34:31.058014Z",
     "iopub.status.busy": "2024-06-02T12:34:31.057561Z",
     "iopub.status.idle": "2024-06-02T12:34:31.065930Z",
     "shell.execute_reply": "2024-06-02T12:34:31.064604Z"
    },
    "papermill": {
     "duration": 0.03281,
     "end_time": "2024-06-02T12:34:31.068364",
     "exception": false,
     "start_time": "2024-06-02T12:34:31.035554",
     "status": "completed"
    },
    "tags": []
   },
   "outputs": [],
   "source": [
    "High_accident_cities = cities_by_accident[cities_by_accident >= 1000]\n",
    "Low_accident_cities = cities_by_accident[cities_by_accident < 1000]\n"
   ]
  },
  {
   "cell_type": "code",
   "execution_count": 19,
   "id": "4aba9b08",
   "metadata": {
    "execution": {
     "iopub.execute_input": "2024-06-02T12:34:31.110454Z",
     "iopub.status.busy": "2024-06-02T12:34:31.110025Z",
     "iopub.status.idle": "2024-06-02T12:34:31.119832Z",
     "shell.execute_reply": "2024-06-02T12:34:31.118135Z"
    },
    "papermill": {
     "duration": 0.037131,
     "end_time": "2024-06-02T12:34:31.123602",
     "exception": false,
     "start_time": "2024-06-02T12:34:31.086471",
     "status": "completed"
    },
    "tags": []
   },
   "outputs": [
    {
     "data": {
      "text/plain": [
       "0.08904159660793917"
      ]
     },
     "execution_count": 19,
     "metadata": {},
     "output_type": "execute_result"
    }
   ],
   "source": [
    "len(High_accident_cities)/ len(cities)"
   ]
  },
  {
   "cell_type": "code",
   "execution_count": 20,
   "id": "6543930a",
   "metadata": {
    "execution": {
     "iopub.execute_input": "2024-06-02T12:34:31.237893Z",
     "iopub.status.busy": "2024-06-02T12:34:31.237397Z",
     "iopub.status.idle": "2024-06-02T12:34:31.247063Z",
     "shell.execute_reply": "2024-06-02T12:34:31.245464Z"
    },
    "papermill": {
     "duration": 0.106891,
     "end_time": "2024-06-02T12:34:31.250121",
     "exception": false,
     "start_time": "2024-06-02T12:34:31.143230",
     "status": "completed"
    },
    "tags": []
   },
   "outputs": [
    {
     "data": {
      "text/plain": [
       "0.910885298632941"
      ]
     },
     "execution_count": 20,
     "metadata": {},
     "output_type": "execute_result"
    }
   ],
   "source": [
    "len(Low_accident_cities)/ len(cities)"
   ]
  },
  {
   "cell_type": "markdown",
   "id": "ace4c9a1",
   "metadata": {
    "papermill": {
     "duration": 0.020171,
     "end_time": "2024-06-02T12:34:31.288807",
     "exception": false,
     "start_time": "2024-06-02T12:34:31.268636",
     "status": "completed"
    },
    "tags": []
   },
   "source": [
    "## Summary or insights\n",
    "- No data for Newyork\n",
    "- The Number of accidents per city dectreases exponentially\n",
    "- Less than 9% of cities have more than 1000 accidents per Year\n",
    "- 1023 cities having only one accident , which looks strange also !!\n",
    "\n",
    "\n"
   ]
  },
  {
   "cell_type": "code",
   "execution_count": 21,
   "id": "fb6fdc4d",
   "metadata": {
    "execution": {
     "iopub.execute_input": "2024-06-02T12:34:31.329365Z",
     "iopub.status.busy": "2024-06-02T12:34:31.328979Z",
     "iopub.status.idle": "2024-06-02T12:34:32.459166Z",
     "shell.execute_reply": "2024-06-02T12:34:32.457951Z"
    },
    "papermill": {
     "duration": 1.153112,
     "end_time": "2024-06-02T12:34:32.462045",
     "exception": false,
     "start_time": "2024-06-02T12:34:31.308933",
     "status": "completed"
    },
    "tags": []
   },
   "outputs": [
    {
     "name": "stderr",
     "output_type": "stream",
     "text": [
      "/opt/conda/lib/python3.10/site-packages/seaborn/_oldcore.py:1119: FutureWarning: use_inf_as_na option is deprecated and will be removed in a future version. Convert inf values to NaN before operating instead.\n",
      "  with pd.option_context('mode.use_inf_as_na', True):\n"
     ]
    },
    {
     "data": {
      "text/plain": [
       "<Axes: xlabel='count', ylabel='Count'>"
      ]
     },
     "execution_count": 21,
     "metadata": {},
     "output_type": "execute_result"
    },
    {
     "data": {
      "image/png": "[encoded data removed]",
      "text/plain": [
       "<Figure size 640x480 with 1 Axes>"
      ]
     },
     "metadata": {},
     "output_type": "display_data"
    }
   ],
   "source": [
    "sns.histplot(High_accident_cities, log_scale = True)"
   ]
  },
  {
   "cell_type": "code",
   "execution_count": 22,
   "id": "7fa1a1fd",
   "metadata": {
    "execution": {
     "iopub.execute_input": "2024-06-02T12:34:32.512394Z",
     "iopub.status.busy": "2024-06-02T12:34:32.511996Z",
     "iopub.status.idle": "2024-06-02T12:34:32.519915Z",
     "shell.execute_reply": "2024-06-02T12:34:32.518745Z"
    },
    "papermill": {
     "duration": 0.037875,
     "end_time": "2024-06-02T12:34:32.522845",
     "exception": false,
     "start_time": "2024-06-02T12:34:32.484970",
     "status": "completed"
    },
    "tags": []
   },
   "outputs": [
    {
     "data": {
      "text/plain": [
       "1023"
      ]
     },
     "execution_count": 22,
     "metadata": {},
     "output_type": "execute_result"
    }
   ],
   "source": [
    "len(cities_by_accident[cities_by_accident== 1])"
   ]
  },
  {
   "cell_type": "markdown",
   "id": "b90f5f56",
   "metadata": {
    "papermill": {
     "duration": 0.019223,
     "end_time": "2024-06-02T12:34:32.562208",
     "exception": false,
     "start_time": "2024-06-02T12:34:32.542985",
     "status": "completed"
    },
    "tags": []
   },
   "source": [
    "## Start Time"
   ]
  },
  {
   "cell_type": "code",
   "execution_count": 23,
   "id": "8360faa7",
   "metadata": {
    "execution": {
     "iopub.execute_input": "2024-06-02T12:34:32.603750Z",
     "iopub.status.busy": "2024-06-02T12:34:32.602610Z",
     "iopub.status.idle": "2024-06-02T12:34:32.612037Z",
     "shell.execute_reply": "2024-06-02T12:34:32.610609Z"
    },
    "papermill": {
     "duration": 0.033033,
     "end_time": "2024-06-02T12:34:32.614666",
     "exception": false,
     "start_time": "2024-06-02T12:34:32.581633",
     "status": "completed"
    },
    "tags": []
   },
   "outputs": [
    {
     "data": {
      "text/plain": [
       "Index(['ID', 'Source', 'Severity', 'Start_Time', 'End_Time', 'Start_Lat',\n",
       "       'Start_Lng', 'End_Lat', 'End_Lng', 'Distance(mi)', 'Description',\n",
       "       'Street', 'City', 'County', 'State', 'Zipcode', 'Country', 'Timezone',\n",
       "       'Airport_Code', 'Weather_Timestamp', 'Temperature(F)', 'Wind_Chill(F)',\n",
       "       'Humidity(%)', 'Pressure(in)', 'Visibility(mi)', 'Wind_Direction',\n",
       "       'Wind_Speed(mph)', 'Precipitation(in)', 'Weather_Condition', 'Amenity',\n",
       "       'Bump', 'Crossing', 'Give_Way', 'Junction', 'No_Exit', 'Railway',\n",
       "       'Roundabout', 'Station', 'Stop', 'Traffic_Calming', 'Traffic_Signal',\n",
       "       'Turning_Loop', 'Sunrise_Sunset', 'Civil_Twilight', 'Nautical_Twilight',\n",
       "       'Astronomical_Twilight'],\n",
       "      dtype='object')"
      ]
     },
     "execution_count": 23,
     "metadata": {},
     "output_type": "execute_result"
    }
   ],
   "source": [
    "df.columns"
   ]
  },
  {
   "cell_type": "code",
   "execution_count": 24,
   "id": "a3d23ecd",
   "metadata": {
    "execution": {
     "iopub.execute_input": "2024-06-02T12:34:32.658547Z",
     "iopub.status.busy": "2024-06-02T12:34:32.658043Z",
     "iopub.status.idle": "2024-06-02T12:34:32.668983Z",
     "shell.execute_reply": "2024-06-02T12:34:32.667627Z"
    },
    "papermill": {
     "duration": 0.035873,
     "end_time": "2024-06-02T12:34:32.671662",
     "exception": false,
     "start_time": "2024-06-02T12:34:32.635789",
     "status": "completed"
    },
    "tags": []
   },
   "outputs": [
    {
     "data": {
      "text/plain": [
       "0          2016-02-08 05:46:00\n",
       "1          2016-02-08 06:07:59\n",
       "2          2016-02-08 06:49:27\n",
       "3          2016-02-08 07:23:34\n",
       "4          2016-02-08 07:39:07\n",
       "                  ...         \n",
       "7728389    2019-08-23 18:03:25\n",
       "7728390    2019-08-23 19:11:30\n",
       "7728391    2019-08-23 19:00:21\n",
       "7728392    2019-08-23 19:00:21\n",
       "7728393    2019-08-23 18:52:06\n",
       "Name: Start_Time, Length: 7728394, dtype: object"
      ]
     },
     "execution_count": 24,
     "metadata": {},
     "output_type": "execute_result"
    }
   ],
   "source": [
    "df['Start_Time']"
   ]
  },
  {
   "cell_type": "code",
   "execution_count": 25,
   "id": "e8e04434",
   "metadata": {
    "execution": {
     "iopub.execute_input": "2024-06-02T12:34:32.714647Z",
     "iopub.status.busy": "2024-06-02T12:34:32.714139Z",
     "iopub.status.idle": "2024-06-02T12:34:38.434109Z",
     "shell.execute_reply": "2024-06-02T12:34:38.433002Z"
    },
    "papermill": {
     "duration": 5.744458,
     "end_time": "2024-06-02T12:34:38.436867",
     "exception": false,
     "start_time": "2024-06-02T12:34:32.692409",
     "status": "completed"
    },
    "tags": []
   },
   "outputs": [],
   "source": [
    "df['Start_Time'] = pd.to_datetime(df['Start_Time'],errors='coerce')"
   ]
  },
  {
   "cell_type": "code",
   "execution_count": 26,
   "id": "aae97bca",
   "metadata": {
    "execution": {
     "iopub.execute_input": "2024-06-02T12:34:38.479725Z",
     "iopub.status.busy": "2024-06-02T12:34:38.479291Z",
     "iopub.status.idle": "2024-06-02T12:34:39.304941Z",
     "shell.execute_reply": "2024-06-02T12:34:39.303735Z"
    },
    "papermill": {
     "duration": 0.850125,
     "end_time": "2024-06-02T12:34:39.307561",
     "exception": false,
     "start_time": "2024-06-02T12:34:38.457436",
     "status": "completed"
    },
    "tags": []
   },
   "outputs": [
    {
     "name": "stderr",
     "output_type": "stream",
     "text": [
      "/tmp/ipykernel_19/350544641.py:1: UserWarning: \n",
      "\n",
      "`distplot` is a deprecated function and will be removed in seaborn v0.14.0.\n",
      "\n",
      "Please adapt your code to use either `displot` (a figure-level function with\n",
      "similar flexibility) or `histplot` (an axes-level function for histograms).\n",
      "\n",
      "For a guide to updating your code to use the new functions, please see\n",
      "https://gist.github.com/mwaskom/de44147ed2974457ad6372750bbe5751\n",
      "\n",
      "  sns.distplot(df['Start_Time'].dt.hour, bins =24, kde = False, norm_hist=True)\n"
     ]
    },
    {
     "data": {
      "text/plain": [
       "<Axes: xlabel='Start_Time'>"
      ]
     },
     "execution_count": 26,
     "metadata": {},
     "output_type": "execute_result"
    },
    {
     "data": {
      "image/png": "[encoded data removed]",
      "text/plain": [
       "<Figure size 640x480 with 1 Axes>"
      ]
     },
     "metadata": {},
     "output_type": "display_data"
    }
   ],
   "source": [
    "\n",
    "sns.distplot(df['Start_Time'].dt.hour, bins =24, kde = False, norm_hist=True)"
   ]
  },
  {
   "cell_type": "markdown",
   "id": "9e167c21",
   "metadata": {
    "papermill": {
     "duration": 0.019985,
     "end_time": "2024-06-02T12:34:39.348082",
     "exception": false,
     "start_time": "2024-06-02T12:34:39.328097",
     "status": "completed"
    },
    "tags": []
   },
   "source": [
    "A high percrntage of accidents occur around 6 to 10 am, (probally people in a hurry to get ot work.)\n",
    "Next Highest percentage of accidents occur around 3 to  6 pm"
   ]
  },
  {
   "cell_type": "code",
   "execution_count": 27,
   "id": "c0607719",
   "metadata": {
    "execution": {
     "iopub.execute_input": "2024-06-02T12:34:39.392642Z",
     "iopub.status.busy": "2024-06-02T12:34:39.391505Z",
     "iopub.status.idle": "2024-06-02T12:34:40.310437Z",
     "shell.execute_reply": "2024-06-02T12:34:40.309107Z"
    },
    "papermill": {
     "duration": 0.944262,
     "end_time": "2024-06-02T12:34:40.313302",
     "exception": false,
     "start_time": "2024-06-02T12:34:39.369040",
     "status": "completed"
    },
    "tags": []
   },
   "outputs": [
    {
     "name": "stderr",
     "output_type": "stream",
     "text": [
      "/tmp/ipykernel_19/1225113815.py:2: UserWarning: \n",
      "\n",
      "`distplot` is a deprecated function and will be removed in seaborn v0.14.0.\n",
      "\n",
      "Please adapt your code to use either `displot` (a figure-level function with\n",
      "similar flexibility) or `histplot` (an axes-level function for histograms).\n",
      "\n",
      "For a guide to updating your code to use the new functions, please see\n",
      "https://gist.github.com/mwaskom/de44147ed2974457ad6372750bbe5751\n",
      "\n",
      "  sns.distplot(df['Start_Time'].dt.dayofweek, bins =7, kde = False, norm_hist=True)\n"
     ]
    },
    {
     "data": {
      "text/plain": [
       "<Axes: xlabel='Start_Time'>"
      ]
     },
     "execution_count": 27,
     "metadata": {},
     "output_type": "execute_result"
    },
    {
     "data": {
      "image/png": "[encoded data removed]",
      "text/plain": [
       "<Figure size 640x480 with 1 Axes>"
      ]
     },
     "metadata": {},
     "output_type": "display_data"
    }
   ],
   "source": [
    "#monday-->0, sunday-->6\n",
    "sns.distplot(df['Start_Time'].dt.dayofweek, bins =7, kde = False, norm_hist=True)"
   ]
  },
  {
   "cell_type": "markdown",
   "id": "695faab5",
   "metadata": {
    "papermill": {
     "duration": 0.022008,
     "end_time": "2024-06-02T12:34:40.358845",
     "exception": false,
     "start_time": "2024-06-02T12:34:40.336837",
     "status": "completed"
    },
    "tags": []
   },
   "source": [
    "From this we can conclude that accidents are higher on week days as compare to weekends"
   ]
  },
  {
   "cell_type": "markdown",
   "id": "46536886",
   "metadata": {
    "papermill": {
     "duration": 0.022015,
     "end_time": "2024-06-02T12:34:40.403548",
     "exception": false,
     "start_time": "2024-06-02T12:34:40.381533",
     "status": "completed"
    },
    "tags": []
   },
   "source": [
    "Is the distribution of accidents by hour the same on weekends as on weekdays?"
   ]
  },
  {
   "cell_type": "code",
   "execution_count": 28,
   "id": "5ec2e4f8",
   "metadata": {
    "execution": {
     "iopub.execute_input": "2024-06-02T12:34:40.451340Z",
     "iopub.status.busy": "2024-06-02T12:34:40.450909Z",
     "iopub.status.idle": "2024-06-02T12:34:40.802547Z",
     "shell.execute_reply": "2024-06-02T12:34:40.801088Z"
    },
    "papermill": {
     "duration": 0.37787,
     "end_time": "2024-06-02T12:34:40.805268",
     "exception": false,
     "start_time": "2024-06-02T12:34:40.427398",
     "status": "completed"
    },
    "tags": []
   },
   "outputs": [
    {
     "data": {
      "text/plain": [
       "135       2016-02-14 10:13:00\n",
       "136       2016-02-14 10:49:23\n",
       "137       2016-02-14 10:41:57\n",
       "138       2016-02-14 18:15:23\n",
       "139       2016-02-14 19:17:01\n",
       "                  ...        \n",
       "7726136   2019-08-18 22:48:14\n",
       "7726137   2019-08-18 23:24:10\n",
       "7726252   2019-08-18 22:56:56\n",
       "7726253   2019-08-18 22:56:56\n",
       "7726292   2019-08-18 22:54:41\n",
       "Name: Start_Time, Length: 490115, dtype: datetime64[ns]"
      ]
     },
     "execution_count": 28,
     "metadata": {},
     "output_type": "execute_result"
    }
   ],
   "source": [
    "sunday_start_time = df.Start_Time[df['Start_Time'].dt.dayofweek==6]\n",
    "sunday_start_time"
   ]
  },
  {
   "cell_type": "code",
   "execution_count": 29,
   "id": "4e78b237",
   "metadata": {
    "execution": {
     "iopub.execute_input": "2024-06-02T12:34:40.851950Z",
     "iopub.status.busy": "2024-06-02T12:34:40.851518Z",
     "iopub.status.idle": "2024-06-02T12:34:41.317523Z",
     "shell.execute_reply": "2024-06-02T12:34:41.315734Z"
    },
    "papermill": {
     "duration": 0.493957,
     "end_time": "2024-06-02T12:34:41.320822",
     "exception": false,
     "start_time": "2024-06-02T12:34:40.826865",
     "status": "completed"
    },
    "tags": []
   },
   "outputs": [
    {
     "name": "stderr",
     "output_type": "stream",
     "text": [
      "/tmp/ipykernel_19/3861509105.py:1: UserWarning: \n",
      "\n",
      "`distplot` is a deprecated function and will be removed in seaborn v0.14.0.\n",
      "\n",
      "Please adapt your code to use either `displot` (a figure-level function with\n",
      "similar flexibility) or `histplot` (an axes-level function for histograms).\n",
      "\n",
      "For a guide to updating your code to use the new functions, please see\n",
      "https://gist.github.com/mwaskom/de44147ed2974457ad6372750bbe5751\n",
      "\n",
      "  sns.distplot(sunday_start_time.dt.hour, bins =24, kde = False, norm_hist=True)\n"
     ]
    },
    {
     "data": {
      "text/plain": [
       "<Axes: xlabel='Start_Time'>"
      ]
     },
     "execution_count": 29,
     "metadata": {},
     "output_type": "execute_result"
    },
    {
     "data": {
      "image/png": "[encoded data removed]",
      "text/plain": [
       "<Figure size 640x480 with 1 Axes>"
      ]
     },
     "metadata": {},
     "output_type": "display_data"
    }
   ],
   "source": [
    "sns.distplot(sunday_start_time.dt.hour, bins =24, kde = False, norm_hist=True)"
   ]
  },
  {
   "cell_type": "code",
   "execution_count": 30,
   "id": "9d1610e4",
   "metadata": {
    "execution": {
     "iopub.execute_input": "2024-06-02T12:34:41.366451Z",
     "iopub.status.busy": "2024-06-02T12:34:41.366013Z",
     "iopub.status.idle": "2024-06-02T12:34:42.214051Z",
     "shell.execute_reply": "2024-06-02T12:34:42.212820Z"
    },
    "papermill": {
     "duration": 0.873989,
     "end_time": "2024-06-02T12:34:42.216714",
     "exception": false,
     "start_time": "2024-06-02T12:34:41.342725",
     "status": "completed"
    },
    "tags": []
   },
   "outputs": [
    {
     "name": "stderr",
     "output_type": "stream",
     "text": [
      "/tmp/ipykernel_19/2730556973.py:2: UserWarning: \n",
      "\n",
      "`distplot` is a deprecated function and will be removed in seaborn v0.14.0.\n",
      "\n",
      "Please adapt your code to use either `displot` (a figure-level function with\n",
      "similar flexibility) or `histplot` (an axes-level function for histograms).\n",
      "\n",
      "For a guide to updating your code to use the new functions, please see\n",
      "https://gist.github.com/mwaskom/de44147ed2974457ad6372750bbe5751\n",
      "\n",
      "  sns.distplot(monday_start_time.dt.hour, bins =24, kde = False, norm_hist=True)\n"
     ]
    },
    {
     "data": {
      "text/plain": [
       "<Axes: xlabel='Start_Time'>"
      ]
     },
     "execution_count": 30,
     "metadata": {},
     "output_type": "execute_result"
    },
    {
     "data": {
      "image/png": "[encoded data removed]",
      "text/plain": [
       "<Figure size 640x480 with 1 Axes>"
      ]
     },
     "metadata": {},
     "output_type": "display_data"
    }
   ],
   "source": [
    "monday_start_time = df.Start_Time[df['Start_Time'].dt.dayofweek==0]\n",
    "sns.distplot(monday_start_time.dt.hour, bins =24, kde = False, norm_hist=True)"
   ]
  },
  {
   "cell_type": "markdown",
   "id": "ff5b341c",
   "metadata": {
    "papermill": {
     "duration": 0.023286,
     "end_time": "2024-06-02T12:34:42.264039",
     "exception": false,
     "start_time": "2024-06-02T12:34:42.240753",
     "status": "completed"
    },
    "tags": []
   },
   "source": [
    "On sundays mostly accidents oocur around 10am to 6pm unlike monday . "
   ]
  },
  {
   "cell_type": "code",
   "execution_count": 31,
   "id": "cca18b3a",
   "metadata": {
    "execution": {
     "iopub.execute_input": "2024-06-02T12:34:42.311821Z",
     "iopub.status.busy": "2024-06-02T12:34:42.311370Z",
     "iopub.status.idle": "2024-06-02T12:34:42.813213Z",
     "shell.execute_reply": "2024-06-02T12:34:42.811873Z"
    },
    "papermill": {
     "duration": 0.52898,
     "end_time": "2024-06-02T12:34:42.816083",
     "exception": false,
     "start_time": "2024-06-02T12:34:42.287103",
     "status": "completed"
    },
    "tags": []
   },
   "outputs": [
    {
     "name": "stderr",
     "output_type": "stream",
     "text": [
      "/tmp/ipykernel_19/3505442506.py:1: UserWarning: \n",
      "\n",
      "`distplot` is a deprecated function and will be removed in seaborn v0.14.0.\n",
      "\n",
      "Please adapt your code to use either `displot` (a figure-level function with\n",
      "similar flexibility) or `histplot` (an axes-level function for histograms).\n",
      "\n",
      "For a guide to updating your code to use the new functions, please see\n",
      "https://gist.github.com/mwaskom/de44147ed2974457ad6372750bbe5751\n",
      "\n",
      "  sns.distplot(monday_start_time.dt.month, bins =12, kde = False, norm_hist=True)\n"
     ]
    },
    {
     "data": {
      "text/plain": [
       "<Axes: xlabel='Start_Time'>"
      ]
     },
     "execution_count": 31,
     "metadata": {},
     "output_type": "execute_result"
    },
    {
     "data": {
      "image/png": "[encoded data removed]",
      "text/plain": [
       "<Figure size 640x480 with 1 Axes>"
      ]
     },
     "metadata": {},
     "output_type": "display_data"
    }
   ],
   "source": [
    "sns.distplot(monday_start_time.dt.month, bins =12, kde = False, norm_hist=True)"
   ]
  },
  {
   "cell_type": "markdown",
   "id": "6c378293",
   "metadata": {
    "papermill": {
     "duration": 0.023407,
     "end_time": "2024-06-02T12:34:42.864262",
     "exception": false,
     "start_time": "2024-06-02T12:34:42.840855",
     "status": "completed"
    },
    "tags": []
   },
   "source": [
    "On month basis month accidents occur from Nov dec"
   ]
  }
 ],
 "metadata": {
  "kaggle": {
   "accelerator": "none",
   "dataSources": [
    {
     "datasetId": 199387,
     "sourceId": 5793796,
     "sourceType": "datasetVersion"
    }
   ],
   "dockerImageVersionId": 30715,
   "isGpuEnabled": false,
   "isInternetEnabled": false,
   "language": "python",
   "sourceType": "notebook"
  },
  "kernelspec": {
   "display_name": "Python 3",
   "language": "python",
   "name": "python3"
  },
  "language_info": {
   "codemirror_mode": {
    "name": "ipython",
    "version": 3
   },
   "file_extension": ".py",
   "mimetype": "text/x-python",
   "name": "python",
   "nbconvert_exporter": "python",
   "pygments_lexer": "ipython3",
   "version": "3.10.13"
  },
  "papermill": {
   "default_parameters": {},
   "duration": 220.860696,
   "end_time": "2024-06-02T12:34:45.713328",
   "environment_variables": {},
   "exception": null,
   "input_path": "__notebook__.ipynb",
   "output_path": "__notebook__.ipynb",
   "parameters": {},
   "start_time": "2024-06-02T12:31:04.852632",
   "version": "2.5.0"
  }
 },
 "nbformat": 4,
 "nbformat_minor": 5
}
